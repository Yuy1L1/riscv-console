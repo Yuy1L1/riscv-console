{
  "cells": [
    {
      "cell_type": "markdown",
      "metadata": {
        "id": "BfhDTjqc2Mwc"
      },
      "source": [
        "# 1) Function Definitions (Do First)"
      ]
    },
    {
      "cell_type": "code",
      "execution_count": 1,
      "metadata": {
        "id": "QVUDovjkQFim"
      },
      "outputs": [],
      "source": [
        "from PIL import Image\n",
        "import numpy as np"
      ]
    },
    {
      "cell_type": "code",
      "execution_count": 2,
      "metadata": {
        "id": "o1fTDUh1_QYP"
      },
      "outputs": [],
      "source": [
        "def loadPaletteSheet(colorSheet, format=0):\n",
        "  length = 64\n",
        "  height = 4\n",
        "  topSpacing = 8\n",
        "  numPalettes = 4\n",
        "  paletteTypes = 4\n",
        "  typeSpace = 29\n",
        "\n",
        "  img = Image.open(colorSheet)\n",
        "  arr = np.asarray(img)\n",
        "\n",
        "  palettes = []\n",
        "\n",
        "  for i in range(paletteTypes):\n",
        "    for k in range(numPalettes):\n",
        "      for h in range(height):\n",
        "        for l in range(length):\n",
        "          color = arr[(i * (typeSpace) + k * (height + 1) + h + topSpacing), l]\n",
        "\n",
        "          r = color[0]\n",
        "          g = color[1]\n",
        "          b = color[2]\n",
        "          a = color[3]\n",
        "\n",
        "          argbd = a << 24 | r << 16 | g << 8 | b\n",
        "          argbh = '{:02x}{:02x}{:02x}'.format(r, g, b)\n",
        "\n",
        "          if(format == 0):\n",
        "            palettes.append(argbd)\n",
        "          else:\n",
        "            palettes.append(argbh)\n",
        "\n",
        "  return palettes"
      ]
    },
    {
      "cell_type": "code",
      "execution_count": 3,
      "metadata": {
        "id": "VbjZMopYMMnY"
      },
      "outputs": [],
      "source": [
        "def findColor(color, palette):\n",
        "  r = color[0]\n",
        "  g = color[1]\n",
        "  b = color[2]\n",
        "  a = color[3]\n",
        "\n",
        "  argbd = a << 24 | r << 16 | g << 8 | b\n",
        "  # argbh = '0x{:02x}{:02x}{:02x}{:02x}'.format(a, r, g, b)\n",
        "\n",
        "  if(argbd in palette):\n",
        "    return palette.index(argbd)\n",
        "  else:\n",
        "    return 0"
      ]
    },
    {
      "cell_type": "code",
      "execution_count": 4,
      "metadata": {
        "id": "qTb6YM0hQRLk"
      },
      "outputs": [],
      "source": [
        "def getSpritePaletteIndexed(sprite, sizeH, sizeW, palette):\n",
        "  # print(np.shape(sprite))\n",
        "  indexedSprite = np.zeros((sizeH, sizeW), dtype=np.uint8)\n",
        "  for i in range(sizeH):\n",
        "    for k in range(sizeW):\n",
        "      indexedSprite[i, k] = findColor(sprite[i,k], palette)\n",
        "  return indexedSprite"
      ]
    },
    {
      "cell_type": "code",
      "execution_count": 5,
      "metadata": {
        "id": "9VfABdhDHZrt"
      },
      "outputs": [],
      "source": [
        "def spritesToArray(infile, palette, sizeH, sizeW, rows, cols):\n",
        "    img = Image.open(infile)\n",
        "    arr = np.asarray(img)\n",
        "\n",
        "    flattenedSprites = np.zeros((rows*cols, sizeW*sizeH), dtype=np.uint8);\n",
        "\n",
        "    for i in range(rows):\n",
        "      for k in range(cols):\n",
        "        sprite = arr[\n",
        "         (i * (sizeH + 1)) + 1 : (i * (sizeH + 1)) + 1 + sizeH,\n",
        "         (k * (sizeW + 1)) + 1 : (k * (sizeW + 1)) + 1 + sizeW]\n",
        "\n",
        "        spi = getSpritePaletteIndexed(sprite, sizeH, sizeW, palette)\n",
        "        flattenedSprites[(i*cols) + k] = spi.flatten()\n",
        "\n",
        "    flattenedSprites = flattenedSprites.flatten()\n",
        "    return flattenedSprites"
      ]
    },
    {
      "cell_type": "code",
      "execution_count": 6,
      "metadata": {
        "id": "watDSUZ9SGLY"
      },
      "outputs": [],
      "source": [
        "def spritesToFile(colorSheet, inputB1, inputB2, inputB3, inputB4, inputL, inputM, inputS, output):\n",
        "    palettes = loadPaletteSheet(colorSheet)\n",
        "\n",
        "    paletteB = palettes[0 : 256 * 4 - 1]\n",
        "    paletteL = palettes[256 * 4 : 256 * 8 - 1]\n",
        "    paletteM = palettes[256 * 8 : 256 * 12 - 1]\n",
        "    paletteS = palettes[256 * 12 : 256 * 16 - 1]\n",
        "\n",
        "    spriteL = spritesToArray(inputL, paletteL, 64, 64, 8, 8)\n",
        "    spriteM = spritesToArray(inputM, paletteM, 32, 32, 8, 8)\n",
        "    spriteS = spritesToArray(inputS, paletteS, 16, 16, 16, 16)\n",
        "\n",
        "    spriteB1 = spritesToArray(inputB1, paletteB, 288, 512, 1, 1)\n",
        "    spriteB2 = spritesToArray(inputB2, paletteB, 288, 512, 1, 1)\n",
        "    spriteB3 = spritesToArray(inputB3, paletteB, 288, 512, 1, 1)\n",
        "    spriteB4 = spritesToArray(inputB4, paletteB, 288, 512, 1, 1)\n",
        "\n",
        "    spriteData = []\n",
        "\n",
        "    for i in range(len(palettes)):\n",
        "      spriteData.append(palettes[i])\n",
        "\n",
        "    for i in range(np.shape(spriteL)[0]):\n",
        "      spriteData.append(spriteL[i])\n",
        "\n",
        "    for i in range(np.shape(spriteM)[0]):\n",
        "      spriteData.append(spriteM[i])\n",
        "\n",
        "    for i in range(np.shape(spriteS)[0]):\n",
        "      spriteData.append(spriteS[i])\n",
        "\n",
        "    for i in range(np.shape(spriteB1)[0]):\n",
        "      spriteData.append(spriteB1[i])\n",
        "\n",
        "    for i in range(np.shape(spriteB2)[0]):\n",
        "      spriteData.append(spriteB2[i])\n",
        "\n",
        "    for i in range(np.shape(spriteB3)[0]):\n",
        "      spriteData.append(spriteB3[i])\n",
        "\n",
        "    for i in range(np.shape(spriteB4)[0]):\n",
        "      spriteData.append(spriteB4[i])\n",
        "\n",
        "    f = open(output, \"w\")\n",
        "    f.write(\"#ifndef SPRITES_DATA\\n#define SPRITES_DATA\\n\\n\")\n",
        "    f.write(\"uint32_t SPRITE_DATA[] = {\");\n",
        "\n",
        "\n",
        "    for i in range(len(spriteData)):\n",
        "      f.write(str(spriteData[i]))\n",
        "      if(i < len(spriteData) - 1):\n",
        "        f.write(\",\")\n",
        "\n",
        "    f.write(\"};\\n\\n#endif\\n\");\n"
      ]
    },
    {
      "cell_type": "code",
      "execution_count": 7,
      "metadata": {
        "id": "GGJUP58DT1sh"
      },
      "outputs": [],
      "source": [
        "def createSpriteSheet(name, sizeH, sizeW, rows, cols):\n",
        "\n",
        "  spriteSheet = np.zeros((\n",
        "    (sizeH + 1) * rows + 1,\n",
        "    (sizeW + 1) * cols + 1, 4), dtype=np.uint8)\n",
        "\n",
        "  print(np.shape(spriteSheet))\n",
        "\n",
        "  for i in range(rows):\n",
        "    spriteSheet[i * (sizeH + 1),:,3] = 255\n",
        "\n",
        "  for i in range(cols):\n",
        "    spriteSheet[:, i * (sizeW + 1),3] = 255\n",
        "\n",
        "  spriteSheet[(sizeH + 1) * rows,:,3] = 255\n",
        "  spriteSheet[:,(sizeW + 1) * cols,3] = 255\n",
        "\n",
        "  print(np.shape(spriteSheet))\n",
        "\n",
        "  im = Image.fromarray(spriteSheet)\n",
        "  im.save(name)"
      ]
    },
    {
      "cell_type": "markdown",
      "metadata": {
        "id": "tntn6ztC2T7Q"
      },
      "source": [
        "# 2) Create Sprite Sheets (Don't Do)\n"
      ]
    },
    {
      "cell_type": "code",
      "execution_count": null,
      "metadata": {
        "colab": {
          "base_uri": "https://localhost:8080/"
        },
        "id": "gtIoYUN93Z6E",
        "outputId": "5a9be3e0-91cc-40cf-a346-e0b2bef4b00c"
      },
      "outputs": [
        {
          "name": "stdout",
          "output_type": "stream",
          "text": [
            "(116, 64, 4)\n"
          ]
        }
      ],
      "source": [
        "l = 64\n",
        "h = 4\n",
        "spacing = 9\n",
        "numPalettes = 4\n",
        "\n",
        "colorSheet = np.zeros(((h * (numPalettes + 1) + spacing) * 4, l, 4), dtype=np.uint8)\n",
        "\n",
        "for i in range(4):\n",
        "  colorSheet[i * (h * (numPalettes + 1) + spacing) + 7, :, 3] = 255\n",
        "  colorSheet[i * (h * (numPalettes + 1) + spacing) + 12, :, 3] = 255\n",
        "  colorSheet[i * (h * (numPalettes + 1) + spacing) + 17, :, 3] = 255\n",
        "  colorSheet[i * (h * (numPalettes + 1) + spacing) + 22, :, 3] = 255\n",
        "  colorSheet[i * (h * (numPalettes + 1) + spacing) + 27, :, 3] = 255\n",
        "\n",
        "im = Image.fromarray(colorSheet)\n",
        "im.save(\"BlankColorSheet.png\")"
      ]
    },
    {
      "cell_type": "code",
      "execution_count": null,
      "metadata": {
        "colab": {
          "base_uri": "https://localhost:8080/"
        },
        "id": "jBQQ1KM6WqVQ",
        "outputId": "99e05cc7-f856-473c-a8ad-443666806f5c"
      },
      "outputs": [
        {
          "name": "stdout",
          "output_type": "stream",
          "text": [
            "(290, 514, 4)\n",
            "(290, 514, 4)\n",
            "(290, 514, 4)\n",
            "(290, 514, 4)\n",
            "(290, 514, 4)\n",
            "(290, 514, 4)\n",
            "(290, 514, 4)\n",
            "(290, 514, 4)\n",
            "(521, 521, 4)\n",
            "(521, 521, 4)\n",
            "(265, 265, 4)\n",
            "(265, 265, 4)\n",
            "(273, 273, 4)\n",
            "(273, 273, 4)\n"
          ]
        }
      ],
      "source": [
        "# Create Sprite Sheets\n",
        "\n",
        "createSpriteSheet(\"bgSprite1.png\", 288, 512, 1, 1)\n",
        "createSpriteSheet(\"bgSprite2.png\", 288, 512, 1, 1)\n",
        "createSpriteSheet(\"bgSprite3.png\", 288, 512, 1, 1)\n",
        "createSpriteSheet(\"bgSprite4.png\", 288, 512, 1, 1)\n",
        "createSpriteSheet(\"largeSpriteSheet.png\", 64, 64, 8, 8)\n",
        "createSpriteSheet(\"mediumSpriteSheet.png\", 32, 32, 8, 8)\n",
        "createSpriteSheet(\"smallSpriteSheet.png\", 16, 16, 16, 16)"
      ]
    },
    {
      "cell_type": "markdown",
      "metadata": {
        "id": "Epch8UNqN8c6"
      },
      "source": [
        "# 3) Load Palette To Pixilart (Optional)"
      ]
    },
    {
      "cell_type": "code",
      "execution_count": 10,
      "metadata": {
        "id": "V78L_jCPebOF"
      },
      "outputs": [
        {
          "ename": "FileNotFoundError",
          "evalue": "[Errno 2] No such file or directory: 'samplePalette.png'",
          "output_type": "error",
          "traceback": [
            "\u001b[0;31m---------------------------------------------------------------------------\u001b[0m",
            "\u001b[0;31mFileNotFoundError\u001b[0m                         Traceback (most recent call last)",
            "\u001b[1;32m/Users/justin/Documents/riscv-console/group-8/Cartridge/Sprite Kit (Sample)/Sprite_to_H_File.ipynb Cell 13\u001b[0m line \u001b[0;36m1\n\u001b[0;32m----> <a href='vscode-notebook-cell:/Users/justin/Documents/riscv-console/group-8/Cartridge/Sprite%20Kit%20%28Sample%29/Sprite_to_H_File.ipynb#X15sZmlsZQ%3D%3D?line=0'>1</a>\u001b[0m palettes \u001b[39m=\u001b[39m loadPaletteSheet(\u001b[39m'\u001b[39;49m\u001b[39msamplePalette.png\u001b[39;49m\u001b[39m'\u001b[39;49m, \u001b[39m1\u001b[39;49m)\n\u001b[1;32m      <a href='vscode-notebook-cell:/Users/justin/Documents/riscv-console/group-8/Cartridge/Sprite%20Kit%20%28Sample%29/Sprite_to_H_File.ipynb#X15sZmlsZQ%3D%3D?line=1'>2</a>\u001b[0m paletteTypes \u001b[39m=\u001b[39m [\u001b[39m\"\u001b[39m\u001b[39mBackground\u001b[39m\u001b[39m\"\u001b[39m, \u001b[39m\"\u001b[39m\u001b[39mLarge\u001b[39m\u001b[39m\"\u001b[39m, \u001b[39m\"\u001b[39m\u001b[39mMedium\u001b[39m\u001b[39m\"\u001b[39m, \u001b[39m\"\u001b[39m\u001b[39mSmall\u001b[39m\u001b[39m\"\u001b[39m]\n\u001b[1;32m      <a href='vscode-notebook-cell:/Users/justin/Documents/riscv-console/group-8/Cartridge/Sprite%20Kit%20%28Sample%29/Sprite_to_H_File.ipynb#X15sZmlsZQ%3D%3D?line=2'>3</a>\u001b[0m \u001b[39mprint\u001b[39m(\u001b[39mlen\u001b[39m(palettes))\n",
            "\u001b[1;32m/Users/justin/Documents/riscv-console/group-8/Cartridge/Sprite Kit (Sample)/Sprite_to_H_File.ipynb Cell 13\u001b[0m line \u001b[0;36m9\n\u001b[1;32m      <a href='vscode-notebook-cell:/Users/justin/Documents/riscv-console/group-8/Cartridge/Sprite%20Kit%20%28Sample%29/Sprite_to_H_File.ipynb#X15sZmlsZQ%3D%3D?line=5'>6</a>\u001b[0m paletteTypes \u001b[39m=\u001b[39m \u001b[39m4\u001b[39m\n\u001b[1;32m      <a href='vscode-notebook-cell:/Users/justin/Documents/riscv-console/group-8/Cartridge/Sprite%20Kit%20%28Sample%29/Sprite_to_H_File.ipynb#X15sZmlsZQ%3D%3D?line=6'>7</a>\u001b[0m typeSpace \u001b[39m=\u001b[39m \u001b[39m29\u001b[39m\n\u001b[0;32m----> <a href='vscode-notebook-cell:/Users/justin/Documents/riscv-console/group-8/Cartridge/Sprite%20Kit%20%28Sample%29/Sprite_to_H_File.ipynb#X15sZmlsZQ%3D%3D?line=8'>9</a>\u001b[0m img \u001b[39m=\u001b[39m Image\u001b[39m.\u001b[39;49mopen(colorSheet)\n\u001b[1;32m     <a href='vscode-notebook-cell:/Users/justin/Documents/riscv-console/group-8/Cartridge/Sprite%20Kit%20%28Sample%29/Sprite_to_H_File.ipynb#X15sZmlsZQ%3D%3D?line=9'>10</a>\u001b[0m arr \u001b[39m=\u001b[39m np\u001b[39m.\u001b[39masarray(img)\n\u001b[1;32m     <a href='vscode-notebook-cell:/Users/justin/Documents/riscv-console/group-8/Cartridge/Sprite%20Kit%20%28Sample%29/Sprite_to_H_File.ipynb#X15sZmlsZQ%3D%3D?line=11'>12</a>\u001b[0m palettes \u001b[39m=\u001b[39m []\n",
            "File \u001b[0;32m/Library/Frameworks/Python.framework/Versions/3.11/lib/python3.11/site-packages/PIL/Image.py:3227\u001b[0m, in \u001b[0;36mopen\u001b[0;34m(fp, mode, formats)\u001b[0m\n\u001b[1;32m   3224\u001b[0m     filename \u001b[39m=\u001b[39m fp\n\u001b[1;32m   3226\u001b[0m \u001b[39mif\u001b[39;00m filename:\n\u001b[0;32m-> 3227\u001b[0m     fp \u001b[39m=\u001b[39m builtins\u001b[39m.\u001b[39mopen(filename, \u001b[39m\"\u001b[39m\u001b[39mrb\u001b[39m\u001b[39m\"\u001b[39m)\n\u001b[1;32m   3228\u001b[0m     exclusive_fp \u001b[39m=\u001b[39m \u001b[39mTrue\u001b[39;00m\n\u001b[1;32m   3230\u001b[0m \u001b[39mtry\u001b[39;00m:\n",
            "\u001b[0;31mFileNotFoundError\u001b[0m: [Errno 2] No such file or directory: 'samplePalette.png'"
          ]
        }
      ],
      "source": [
        "palettes = loadPaletteSheet('samplePalette.png', 1)\n",
        "paletteTypes = [\"Background\", \"Large\", \"Medium\", \"Small\"]\n",
        "print(len(palettes))\n",
        "for i in range(4):\n",
        "  print(paletteTypes[i])\n",
        "  for k in range(4):\n",
        "    paletteStr = \"\"\n",
        "    for l in range(256):\n",
        "      paletteStr += palettes[(((i * 4) + k) * 256) + l] + \",\"\n",
        "    print(paletteStr)"
      ]
    },
    {
      "cell_type": "markdown",
      "metadata": {
        "id": "vCHrkDS03TYQ"
      },
      "source": [
        "# 4) Save Sprites To H File (Do Last)"
      ]
    },
    {
      "cell_type": "code",
      "execution_count": null,
      "metadata": {
        "id": "hNeK3xALGmui"
      },
      "outputs": [],
      "source": [
        "# Modify sprite sheets\n",
        "# recommended site: https://www.pixilart.com/draw#"
      ]
    },
    {
      "cell_type": "code",
      "execution_count": 8,
      "metadata": {
        "id": "OAPrcbF3TkXU"
      },
      "outputs": [],
      "source": [
        "spritesToFile('defaultPaletteSheet.png',\n",
        "              'bgSprite1.png',\n",
        "              'bgSprite2.png',\n",
        "              'bgSprite3.png',\n",
        "              'bgSprite4.png',\n",
        "              'largeSpriteSheet.png',\n",
        "              'mediumSpriteSheet.png',\n",
        "              'smallSpriteSheet.png',\n",
        "              \"spriteData.h\")"
      ]
    }
  ],
  "metadata": {
    "colab": {
      "collapsed_sections": [
        "tntn6ztC2T7Q",
        "Epch8UNqN8c6"
      ],
      "provenance": []
    },
    "kernelspec": {
      "display_name": "Python 3",
      "name": "python3"
    },
    "language_info": {
      "codemirror_mode": {
        "name": "ipython",
        "version": 3
      },
      "file_extension": ".py",
      "mimetype": "text/x-python",
      "name": "python",
      "nbconvert_exporter": "python",
      "pygments_lexer": "ipython3",
      "version": "3.11.1"
    }
  },
  "nbformat": 4,
  "nbformat_minor": 0
}
